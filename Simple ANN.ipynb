{
 "cells": [
  {
   "cell_type": "markdown",
   "id": "4c4ffdbb",
   "metadata": {},
   "source": [
    "# Artificial Neural Network with Numpy Implementation\n",
    " \n",
    "### Problem Statement\n",
    "You will classify the [mnist](https://en.wikipedia.org/wiki/MNIST_database) dataset.\n",
    "\n",
    "These are the filenames contained in [Yann LeCun's mnist dataset](https://yann.lecun.com/exdb/mnist/), where to download them from, and how to save them to your hard drive:\n",
    "\n",
    "**Train until you reach an accuracy of 90% on the mnist training data and 80% on the mnist test data**"
   ]
  },
  {
   "cell_type": "code",
   "execution_count": 1,
   "id": "d2846042",
   "metadata": {},
   "outputs": [],
   "source": [
    "import numpy as np\n",
    "from urllib import request\n",
    "import gzip\n",
    "import pickle\n",
    "import random\n",
    "import os\n",
    "wd = os.getcwd()"
   ]
  },
  {
   "cell_type": "markdown",
   "id": "0a4392fa",
   "metadata": {},
   "source": [
    "## Functions\n",
    "\n",
    "Functions to download the dataset and load the dataset onto python. Additionally other functions are added for use in the code"
   ]
  },
  {
   "cell_type": "code",
   "execution_count": 2,
   "id": "e1981357",
   "metadata": {},
   "outputs": [],
   "source": [
    "\n",
    "def download_mnist():\n",
    "    base_url = \"http://yann.lecun.com/exdb/mnist/\"\n",
    "    for name in filename:\n",
    "        print(\"Downloading \"+name[1]+\"...\")\n",
    "        request.urlretrieve(base_url+name[1], name[1])\n",
    "    print(\"Download complete.\")\n",
    "\n",
    "def save_mnist():\n",
    "    mnist = {}\n",
    "    for name in filename[:2]:\n",
    "        with gzip.open(name[1], 'rb') as f:\n",
    "            mnist[name[0]] = np.frombuffer(f.read(), np.uint8, offset=16).reshape(-1,28*28)\n",
    "    for name in filename[-2:]:\n",
    "        with gzip.open(name[1], 'rb') as f:\n",
    "            mnist[name[0]] = np.frombuffer(f.read(), np.uint8, offset=8)\n",
    "    with open(\"mnist.pkl\", 'wb') as f:\n",
    "        pickle.dump(mnist,f)\n",
    "    print(\"Save complete.\")\n",
    "\n",
    "\n",
    "def norm(X, x_min, x_max):\n",
    "    nom = (X - X.min(axis=0)) * (x_max-x_min)\n",
    "    denom = X.max(axis=0) - X.min(axis=0)\n",
    "    denom[denom==0] = 1\n",
    "    return x_min + nom/denom \n",
    "  \n",
    "def prep_data(X, y):\n",
    "\n",
    "    X_ = []\n",
    "    y_ = []\n",
    "    batch_size = 50\n",
    "    itr = int(len(y) / batch_size) + 1\n",
    "    print(itr)\n",
    "    for j in range(1, itr):\n",
    "        rng = j * batch_size\n",
    "     \n",
    "\n",
    "        X_.append(X[rng - batch_size : rng, :])\n",
    "        y_.append(y[rng - batch_size : rng])\n",
    "\n",
    "\n",
    "    X, y = np.array(X_), np.array(y_)\n",
    "    print(y.shape)\n",
    "    X = norm(X, 0, 1)#[:,:,0]\n",
    "#    X = X[:,1].squeeze()\n",
    "#    y = y[:,1].squeeze()\n",
    "#    y = np.reshape(y,(y.shape[0],1))\n",
    "    return X, y\n",
    "\n",
    "def load():\n",
    "    with open(wd+\"\\mnist.pkl\",'rb') as f:\n",
    "        mnist = pickle.load(f)\n",
    "    return mnist[\"training_images\"], mnist[\"training_labels\"], mnist[\"test_images\"], mnist[\"test_labels\"]\n",
    "#This is how you could one-hot-encode your labels, so that instead of an integer between 0 and 9 (the mnist digits), you have a 10-D array of ones and zeros:\n",
    "\n",
    "def one_hot_encode(y, num_labels=10):\n",
    "    one_hot = np.zeros((num_labels, y.shape[0]), dtype=np.float32)\n",
    "\n",
    "    for i, val in enumerate(y):\n",
    "        one_hot[val,i] = 1.0\n",
    "\n",
    "    return one_hot\n",
    "\n",
    "\n",
    "\n",
    "def compute_loss(prediction, label):\n",
    "    term_1 = -1*label * np.log(prediction)\n",
    "    term_2 = (1 - label) * (np.log(1 - prediction))\n",
    "\n",
    "    loss = np.sum(term_1 - term_2)\n",
    "    return loss\n",
    "\n",
    "\n"
   ]
  },
  {
   "cell_type": "markdown",
   "id": "48cb9684",
   "metadata": {},
   "source": [
    "## Loading the dataset "
   ]
  },
  {
   "cell_type": "code",
   "execution_count": 3,
   "id": "dedb6ae3",
   "metadata": {},
   "outputs": [
    {
     "name": "stdout",
     "output_type": "stream",
     "text": [
      "Downloading train-images-idx3-ubyte.gz...\n",
      "Downloading t10k-images-idx3-ubyte.gz...\n",
      "Downloading train-labels-idx1-ubyte.gz...\n",
      "Downloading t10k-labels-idx1-ubyte.gz...\n",
      "Download complete.\n",
      "Save complete.\n"
     ]
    }
   ],
   "source": [
    "#%%\n",
    "\n",
    "filename = [\n",
    "    [\"training_images\",\"train-images-idx3-ubyte.gz\"],\n",
    "    [\"test_images\",\"t10k-images-idx3-ubyte.gz\"],\n",
    "    [\"training_labels\",\"train-labels-idx1-ubyte.gz\"],\n",
    "    [\"test_labels\",\"t10k-labels-idx1-ubyte.gz\"]\n",
    "]\n",
    "\n",
    "download_mnist()\n",
    "save_mnist()\n"
   ]
  },
  {
   "cell_type": "markdown",
   "id": "4232e3ce",
   "metadata": {},
   "source": [
    "## Data Manipulation\n",
    "\n",
    "The loaded dataset is split into the train test data and the shape of the input dataset is analysed\n",
    "\n",
    "We can see that the data consists of a 3D Array for the image and a 1D array for the label. The data is modified to a 2D array to ensure the neural network can calculate the weights accurately. \n"
   ]
  },
  {
   "cell_type": "code",
   "execution_count": 4,
   "id": "ef876f92",
   "metadata": {},
   "outputs": [
    {
     "name": "stdout",
     "output_type": "stream",
     "text": [
      "(60000, 784) (60000,) (10000, 784) (10000,)\n",
      "1201\n",
      "(1200, 50)\n",
      "(1200, 50, 784) (1200, 50)\n",
      "[5 0 4 ... 5 6 8]\n",
      "(60000,)\n",
      "60000\n",
      "(60000, 784) (60000,)\n"
     ]
    }
   ],
   "source": [
    "X_train, y_train, X_test, y_test = load()\n",
    "\n",
    "print(X_train.shape, y_train.shape, X_test.shape, y_test.shape)\n",
    "a, b = prep_data(X_train, y_train)\n",
    "print(a.shape,b.shape)\n",
    "np.any(X_train), np.any(X_test)\n",
    "\n",
    "print(y_train)\n",
    "print(y_train.shape)\n",
    "\n",
    "#a, b = prep_data(X_train, y_train)\n",
    "\n",
    "#X_train, y_train = prep_data(X_train, y_train)\n",
    "\n",
    "X_train = X_train.reshape(1200*50,784)\n",
    "\n",
    "print(len(X_train))\n",
    "\n",
    "np.count_nonzero(X_train, axis=None) / X_train.size\n",
    "\n",
    "print(X_train.shape, y_train.shape)\n"
   ]
  },
  {
   "cell_type": "markdown",
   "id": "66a02a94",
   "metadata": {},
   "source": [
    "## Data Cleaning\n",
    "\n",
    "The size of the dataset is modified to ensure the shapes are the same\n",
    "\n",
    "for the `label` -  `y_train` and `y_test` I transposed the dataset and since the problem is based on a sigmoid equation, I ensure the `label` is between 0 and 1 and hence I used the `one_hot_encode` function given by the professor.\n",
    "\n",
    "The training and testing dataset `X_train`, `X_test` is normalised between 0 and 1. Since the datasets are images, it can be processed by dividing by 255 or converting to black and white"
   ]
  },
  {
   "cell_type": "code",
   "execution_count": 5,
   "id": "9dc80492",
   "metadata": {},
   "outputs": [],
   "source": [
    "y_train = one_hot_encode(y_train).transpose()\n",
    "y_test = one_hot_encode(y_test).transpose()\n",
    "\n",
    "X_train = norm(X_train,0,1)\n",
    "X_test = norm(X_test,0,1)\n",
    "\n",
    "# X_train = X_train / 255\n",
    "# X_test = X_test / 255"
   ]
  },
  {
   "cell_type": "code",
   "execution_count": 6,
   "id": "71d04da3",
   "metadata": {},
   "outputs": [
    {
     "name": "stdout",
     "output_type": "stream",
     "text": [
      "(60000, 784) (60000, 10) (10000, 784) (10000, 10)\n"
     ]
    }
   ],
   "source": [
    "print(X_train.shape, y_train.shape, X_test.shape, y_test.shape)"
   ]
  },
  {
   "cell_type": "markdown",
   "id": "131a1dfa",
   "metadata": {},
   "source": [
    "## Visualising the Data\n",
    "\n",
    "A random set of samples decided by the `num_examples` is viewed using `matplotlib`"
   ]
  },
  {
   "cell_type": "code",
   "execution_count": 7,
   "id": "7f505a3d",
   "metadata": {},
   "outputs": [
    {
     "data": {
      "image/png": "[encoded data removed]",
      "text/plain": [
       "<Figure size 640x480 with 5 Axes>"
      ]
     },
     "metadata": {},
     "output_type": "display_data"
    }
   ],
   "source": [
    "##EXAMPLES\n",
    "import matplotlib.pyplot as plt\n",
    "num_examples = 5\n",
    "seed = 10\n",
    "rng = np.random.default_rng(seed)\n",
    "fig, axes = plt.subplots(1, num_examples)\n",
    "for sample, ax in zip(rng.choice(X_train, size=num_examples, replace=False), axes):\n",
    "    ax.imshow(sample.reshape(28, 28), cmap=\"gray\")\n",
    "    "
   ]
  },
  {
   "cell_type": "markdown",
   "id": "4f8af746",
   "metadata": {},
   "source": [
    "## Building the Aritifical Neural Network / ANN - Step by Step Explaination\n",
    "\n",
    "1. Taking in the following arguments \n",
    "    \n",
    "* `input_size` and `output_size` are the main but the sizes of the hidden layers can also be given by adding `hidden_layer1_size` and `hidden_layer2_size`\n",
    "    \n",
    "    \n",
    "2. Based on the `input size` ,`output_size` of the dataset and labels the weights of the 3 layers are considered\n",
    "\n",
    "* `W1`, `W2`, `W3` correspond to the weights of each of the layers assuming a random set of weights\n",
    "\n",
    "\n",
    "3. Defining a `sigmoid` or logistic activation function\n",
    "\n",
    "\n",
    "4. A feedforward function with the layers optimised by a logistic activation function and the weights are calculated accordingly \n",
    "\n",
    "$$\\sigma = \\frac{1}{1 + e ^-x}$$ Represents the Sigmoid equation\n",
    "\n",
    "and \n",
    "\n",
    "$$\\sigma(x) \\cdot (1 - \\sigma(x))$$ Represents the derivative of the Sigmoid Equation\n",
    "\n",
    "$$\\hat{y_1} = \\sigma(W_1x)$$\n",
    "\n",
    "$$\\hat{y_2} = \\sigma\\;(W_2\\hat{y_1})$$\n",
    "\n",
    "$$\\hat{y_3} = \\sigma\\;(W_3\\hat{y_2})$$\n",
    "\n",
    "\n",
    "\n",
    "* Combining all 3 equations we get the following. This represents the feedforward mechanism\n",
    "\n",
    "$$\\hat{y} = \\sigma(W_3(\\sigma\\;(W_2\\sigma(W_1x))))$$\n",
    "\n",
    "* The above equation gives the weights at the output layer\n",
    "\n",
    "* `a1` and `a2` are the hidden layers\n",
    "\n",
    "* `z1`,`z2` and `z3` are the outputs of the layers during this stage - obtained by dot prouducts \n",
    "\n",
    "\n",
    "    \n",
    "5. The most important step is Backpropogation according to this step the loss is calculated by taking the derivative according to the loss function specified . \n",
    "\n",
    "    Error between predicted and actual labels is given by  $\\hat{y} - y$ and the RMSE loss function is as follows.\n",
    "\n",
    "    $$RMSE = \\sqrt{\\frac{1}{n}\\sum_{i=1}^{n}(y_i-\\hat{y}_i)^2}$$\n",
    "\n",
    "    We want to calculate the gradient of the RMSE loss function with respect to the predicted output y_hat. This is given by:\n",
    "\n",
    "\n",
    "    $$\\frac{\\partial\\;(RMSE)}{\\partial \\hat y} = \\frac{1}{n} * (y - \\hat y)$$ \n",
    "\n",
    "        The RMSE is used to find the loss with respect to the output during the epoch so that it can be relayed back to the      weights\n",
    "\n",
    "    `(self.y - self.y_pred)`\n",
    "\n",
    "    *The Derivative of the sigmoid function is given by the `sigmoid_derivative` function*. \n",
    "\n",
    "    For the overall architecture of the Neural Network we have to calculate the loss and propogate the results back to the input layer for the weights to be optimised. \n",
    "\n",
    "    $$\\frac{\\partial \\;Loss_3(y, \\hat{y})}{\\partial W^3} = \n",
    "    \\frac{\\partial \\;Loss_3(y, \\hat{y})}{\\partial \\hat{y}} * \\frac{\\partial\\hat{y}}{\\partial W^3} =\n",
    "    \\sum_i \\; (y - \\hat{y}) * \\frac{\\partial\\hat{y}}{\\partial W^3}$$\n",
    "\n",
    "    $$\\frac{\\partial \\;Loss_2(y, \\hat{y})}{\\partial W^2} = \n",
    "    \\frac{\\partial \\;Loss_2(y, \\hat{y})}{\\partial \\hat{y}}* \\frac{\\partial\\hat{y}}{\\partial a_2} * \\frac{\\partial a_2}{\\partial W^2} =\n",
    "    \\sum_i \\; (y - \\hat{y}) * \\frac{\\partial\\hat{y}}{\\partial a_2} * \n",
    "    \\frac{\\partial a_2}{\\partial W^2}$$\n",
    "\n",
    "    $$\\frac{\\partial \\;Loss_1(y, \\hat{y})}{\\partial W^1} = \n",
    "    \\frac{\\partial \\;Loss_1(y, \\hat{y})}{\\partial \\hat{y}}* \\frac{\\partial\\hat{y}}{\\partial a_1} * \\frac{\\partial a_1}{\\partial W^1} =\n",
    "    \\sum_i \\; (y - \\hat{y}) * \\frac{\\partial\\hat{y}}{\\partial a_1} * \n",
    "    \\frac{\\partial a_1}{\\partial W^1}$$\n",
    "\n",
    "    $$a_1 = \\sigma(W_1)$$\n",
    "\n",
    "    $$a_2 = \\sigma(W_2 * a_1)$$\n",
    "\n",
    "    $$\\hat y = \\sigma(W_3 * a_2)$$\n",
    "\n",
    "\n",
    "    Plugging in the equations we get the following\n",
    "\n",
    "    $$\\frac{\\partial \\;Loss_3(y, \\hat{y})}{\\partial W^3}  =\n",
    "    \\sum_i \\; (y - \\hat{y}) * \\frac{\\partial\\sigma(W_3 * a_2)}{\\partial W^3}$$\n",
    "\n",
    "    $$\\frac{\\partial \\;Loss_2(y, \\hat{y})}{\\partial W^2} =\n",
    "    \\sum_i \\; (y - \\hat{y}) * \\frac{\\partial\\sigma(W_3 * a_2)}{\\partial a_2} * \n",
    "    \\frac{\\partial \\sigma(W_2 * a_1)}{\\partial W^2}$$\n",
    "    '\n",
    "    $$\\frac{\\partial \\;Loss_1(y, \\hat{y})}{\\partial W^1} =\n",
    "    \\sum_i \\; (y - \\hat{y}) * \\frac{\\partial\\hat{y}}{\\partial a_1} * \n",
    "    \\frac{\\partial a_2}{\\partial W^2}$$\n",
    "\n",
    "    Final set of equations \n",
    "\n",
    "    $$\\frac{\\partial \\;Loss_3(y, \\hat{y})}{\\partial W^3}  = (y - \\hat{y}) * \\sigma' (z^{(3)})$$\n",
    "\n",
    "    $$\\frac{\\partial \\;Loss_2(y, \\hat{y})}{\\partial W^2} = (y - \\hat{y}) *  \\sigma' (z^{(3)}) * W^{(2)}  *  \\sigma' (z^{(2)})$$\n",
    "\n",
    "    $$\\frac{\\partial \\;Loss_1(y, \\hat{y})}{\\partial W^1} = (y - \\hat{y}) *  \\sigma' (z^{(3)}) * W^{(2)}  *  \\sigma' (z^{(2)})  * W^{(1)}) * \\sigma' (z^{(1)})$$\n",
    "\n",
    "6. Training the dataset - A minibatch of size 50 is used in this Neural Network with a learning rate of 0.1. The accuracy is calculated by the `accuracy` function and the loss is calculated by the `rmse_loss` function\n",
    "\n",
    "\n",
    "7. For testing some data, the test data can be reloaded using the `reload` function and fed forward after which the metrics of the prediction can be analysed "
   ]
  },
  {
   "cell_type": "markdown",
   "id": "f2c40f13",
   "metadata": {},
   "source": [
    "## Implementing the above architecture in Python"
   ]
  },
  {
   "cell_type": "code",
   "execution_count": 8,
   "id": "2b19d6ef",
   "metadata": {},
   "outputs": [],
   "source": [
    "def sigmoid(x):\n",
    "    return 1 / (1 + np.exp(-x))\n",
    "\n",
    "# Define the RMSE loss function\n",
    "def rmse_loss(y_t, y_p):\n",
    "    return np.sqrt(np.mean((y_t - y_p)**2))\n",
    "\n",
    "def sigmoid_derivative(x):\n",
    "    return sigmoid(x) * (1 - sigmoid(x))\n",
    "\n",
    "class ArtificialNeuralNetwork:\n",
    "    \n",
    "    def __init__(self, input_size,output_size, hidden_layer1_size = 100, hidden_layer2_size = 100):\n",
    "        \n",
    "        \n",
    "        self.input_size         = input_size\n",
    "        self.hidden_layer1_size = hidden_layer1_size\n",
    "        self.hidden_layer2_size = hidden_layer2_size\n",
    "        self.output_size        = output_size\n",
    "        self.W1                 = np.random.randn(input_size, hidden_layer1_size)\n",
    "        self.W2                 = np.random.randn(hidden_layer1_size, hidden_layer2_size)\n",
    "        self.W3                 = np.random.randn(hidden_layer2_size, output_size)\n",
    "\n",
    "    \n",
    "    def feedforward(self):        \n",
    "        self.z1 = self.X.dot(self.W1)\n",
    "        self.a1 = sigmoid(self.z1)\n",
    "        self.z2 = self.a1.dot(self.W2)\n",
    "        self.a2 = sigmoid(self.z2)\n",
    "        self.z3 = self.a2.dot(self.W3)\n",
    "        self.y_pred = sigmoid(self.z3)\n",
    "\n",
    "\n",
    "        self.loss = rmse_loss(self.y, self.y_pred)\n",
    "        \n",
    "    def backpropogation(self):\n",
    "        \n",
    "        loss3 = (self.y - self.y_pred) * sigmoid_derivative(self.z3)\n",
    "        #loss3 = rmse_derivative(self.y,self.y_pred) * sigmoid_derivative(self.z3)\n",
    "        loss2 = loss3.dot(self.W3.T) * sigmoid_derivative(self.z2)\n",
    "        loss1 = loss2.dot(self.W2.T) * sigmoid_derivative(self.z1)\n",
    "        self.W3 += self.a2.T.dot(loss3) * 0.1\n",
    "        self.W2 += self.a1.T.dot(loss2) * 0.1\n",
    "        self.W1 += self.X.T.dot(loss1)  * 0.1\n",
    "        \n",
    "    def training(self, X_train, y_train, num_epochs, batch_size):\n",
    "        num_batches = X_train.shape[0] // batch_size        \n",
    "        \n",
    "        for epoch in range(num_epochs):\n",
    "            \n",
    "            for batch in range(num_batches):\n",
    "                lower = batch*batch_size\n",
    "                upper = (batch+1)*batch_size\n",
    "                \n",
    "                X_batch = X_train[lower:upper]\n",
    "                y_batch = y_train[lower:upper]\n",
    "\n",
    "                self.X = X_batch\n",
    "                self.y = y_batch\n",
    "                \n",
    "                self.feedforward()\n",
    "                \n",
    "                self.backpropogation()\n",
    "                \n",
    "            self.X = X_train\n",
    "            self.y = y_train\n",
    "            self.feedforward()\n",
    "            accuracy = self.accuracy(self.X, self.y)         \n",
    "            print(\"The accuracy of the training data after \"+str(epoch)+\" Epochs is \"+ str(accuracy*100) + \" %\")\n",
    "            if (epoch+1) % 2 == 0:\n",
    "                print(f\"Epoch {epoch+1}/{num_epochs} - loss: {self.loss:.4f}\")          \n",
    "            if accuracy > 0.9:\n",
    "                print(\"The Neural Network has converged at the desired accuracy\")\n",
    "                break                \n",
    "            \n",
    "    def reload(self, x,y):\n",
    "        self.X = x\n",
    "        self.y = y\n",
    "\n",
    "    def predict(self):\n",
    "        return self.z3#self.output\n",
    "    \n",
    "    def accuracy(self, X, y):\n",
    "        self.reload(X,y)\n",
    "        self.feedforward()\n",
    "        predicted_class = np.argmax(self.z3, axis=1)\n",
    "        accuracy = np.mean(predicted_class == np.argmax(y, axis=1))        \n",
    "        return accuracy\n",
    "\n"
   ]
  },
  {
   "cell_type": "markdown",
   "id": "1edf3007",
   "metadata": {},
   "source": [
    "## Initialise an ANN"
   ]
  },
  {
   "cell_type": "code",
   "execution_count": 9,
   "id": "9f54b31d",
   "metadata": {},
   "outputs": [],
   "source": [
    "#random.seed(10)\n",
    "nn = ArtificialNeuralNetwork(input_size = X_train.shape[1],output_size = y_train.shape[1])"
   ]
  },
  {
   "cell_type": "markdown",
   "id": "80382d64",
   "metadata": {},
   "source": [
    "## Training the ANN\n",
    "\n",
    "`num_epochs` handles the Number of Epochs and `batch_size` ensure the rate described in the question which is **50**.\n",
    "\n",
    "<font color='red'>Note : The training process is iterative and if the ANN fails to converge at the 90 % mark please increase the number of epochs</font>"
   ]
  },
  {
   "cell_type": "code",
   "execution_count": 10,
   "id": "9a65e543",
   "metadata": {},
   "outputs": [
    {
     "name": "stdout",
     "output_type": "stream",
     "text": [
      "The accuracy of the training data after 0 Epochs is 70.89833333333333 %\n",
      "The accuracy of the training data after 1 Epochs is 75.285 %\n",
      "Epoch 2/25 - loss: 0.1718\n",
      "The accuracy of the training data after 2 Epochs is 76.32166666666666 %\n",
      "The accuracy of the training data after 3 Epochs is 76.75999999999999 %\n",
      "Epoch 4/25 - loss: 0.1634\n",
      "The accuracy of the training data after 4 Epochs is 77.10666666666667 %\n",
      "The accuracy of the training data after 5 Epochs is 77.42833333333333 %\n",
      "Epoch 6/25 - loss: 0.1594\n",
      "The accuracy of the training data after 6 Epochs is 77.76833333333333 %\n",
      "The accuracy of the training data after 7 Epochs is 78.00833333333334 %\n",
      "Epoch 8/25 - loss: 0.1561\n",
      "The accuracy of the training data after 8 Epochs is 78.19 %\n",
      "The accuracy of the training data after 9 Epochs is 78.32833333333333 %\n",
      "Epoch 10/25 - loss: 0.1540\n",
      "The accuracy of the training data after 10 Epochs is 78.505 %\n",
      "The accuracy of the training data after 11 Epochs is 78.99833333333333 %\n",
      "Epoch 12/25 - loss: 0.1527\n",
      "The accuracy of the training data after 12 Epochs is 87.905 %\n",
      "The accuracy of the training data after 13 Epochs is 88.115 %\n",
      "Epoch 14/25 - loss: 0.1174\n",
      "The accuracy of the training data after 14 Epochs is 88.26833333333333 %\n",
      "The accuracy of the training data after 15 Epochs is 88.37 %\n",
      "Epoch 16/25 - loss: 0.1152\n",
      "The accuracy of the training data after 16 Epochs is 88.43166666666666 %\n",
      "The accuracy of the training data after 17 Epochs is 88.50666666666666 %\n",
      "Epoch 18/25 - loss: 0.1139\n",
      "The accuracy of the training data after 18 Epochs is 88.57333333333334 %\n",
      "The accuracy of the training data after 19 Epochs is 88.615 %\n",
      "Epoch 20/25 - loss: 0.1131\n",
      "The accuracy of the training data after 20 Epochs is 88.655 %\n",
      "The accuracy of the training data after 21 Epochs is 88.77166666666668 %\n",
      "Epoch 22/25 - loss: 0.1120\n",
      "The accuracy of the training data after 22 Epochs is 89.405 %\n",
      "The accuracy of the training data after 23 Epochs is 97.27 %\n",
      "Epoch 24/25 - loss: 0.0705\n",
      "The Neural Network has converged at the desired accuracy\n"
     ]
    }
   ],
   "source": [
    "nn.training(X_train = X_train, y_train = y_train,  num_epochs = 50, batch_size = 50)"
   ]
  },
  {
   "cell_type": "markdown",
   "id": "c9ecbaf8",
   "metadata": {},
   "source": [
    "## Testing on a test Dataset"
   ]
  },
  {
   "cell_type": "markdown",
   "id": "8de8858e",
   "metadata": {},
   "source": [
    "### Visually Seeing the output\n",
    "\n",
    "For comparing the labels and predicted values I have taken a random set of Pictures to look at to visually confirm whether the model was able to predict with accuracy\n"
   ]
  },
  {
   "cell_type": "code",
   "execution_count": 11,
   "id": "eea5e99c",
   "metadata": {},
   "outputs": [
    {
     "name": "stdout",
     "output_type": "stream",
     "text": [
      "[4706, 2249, 7223, 8495, 676, 4327, 6056, 231, 1387, 3871, 791, 3450, 3586, 5931, 1998, 9204, 1146, 7777, 3354, 1838, 7671, 7641, 9883, 2659, 6502, 9718, 3261, 7994, 3462, 6159, 4027, 1901, 9759, 1378, 6760, 81, 2462, 3817, 5701, 7820, 2473, 6583, 8681, 1840, 5763, 6908, 6098, 4462, 149, 7091]\n"
     ]
    }
   ],
   "source": [
    "# rng.choice(X_train[10:20])\n",
    "import random\n",
    "check = [random.randint(1,X_test.shape[0]) for x in range(1,51)]\n",
    "print(check)"
   ]
  },
  {
   "cell_type": "code",
   "execution_count": 12,
   "id": "f2bae00b",
   "metadata": {},
   "outputs": [],
   "source": [
    "nn.reload(X_test[check],y_test[check])\n",
    "nn.feedforward()\n",
    "oo = nn.predict()"
   ]
  },
  {
   "cell_type": "markdown",
   "id": "daf38947",
   "metadata": {},
   "source": [
    "* The first list shows the predicted labels\n",
    "\n",
    "* The graphic shows the actual labels"
   ]
  },
  {
   "cell_type": "code",
   "execution_count": 13,
   "id": "2c2f2978",
   "metadata": {},
   "outputs": [
    {
     "name": "stdout",
     "output_type": "stream",
     "text": [
      "[9 4 1 2 7 0 8 3 6 8]\n"
     ]
    },
    {
     "data": {
      "image/png": "[encoded data removed]",
      "text/plain": [
       "<Figure size 640x480 with 10 Axes>"
      ]
     },
     "metadata": {},
     "output_type": "display_data"
    }
   ],
   "source": [
    "##EXAMPLES\n",
    "import matplotlib.pyplot as plt\n",
    "num_examples = 10\n",
    "fig, axes = plt.subplots(1, num_examples)\n",
    "for sample, ax in zip(X_test[check], axes):\n",
    "    ax.imshow(sample.reshape(28, 28), cmap=\"gray\")\n",
    "    \n",
    "predicted_class = np.argmax(oo, axis=1)\n",
    "print(predicted_class[:num_examples])"
   ]
  },
  {
   "cell_type": "markdown",
   "id": "ad036989",
   "metadata": {},
   "source": [
    "## Overall Accuracy of Test Data\n",
    "\n",
    "From the above visuals we can see that our model did predict **almost all  the labels accurately**"
   ]
  },
  {
   "cell_type": "code",
   "execution_count": 14,
   "id": "fe03959c",
   "metadata": {},
   "outputs": [
    {
     "name": "stdout",
     "output_type": "stream",
     "text": [
      "Accuracy of the test Dataset  95.16\n"
     ]
    }
   ],
   "source": [
    "accuracy = nn.accuracy(X_test, y_test)\n",
    "print(\"Accuracy of the test Dataset \", accuracy * 100)"
   ]
  },
  {
   "cell_type": "markdown",
   "id": "e2f1d168",
   "metadata": {},
   "source": [
    "# Conclusion - Key Takeaways\n",
    "\n",
    "* We have designed a Neural Network which can classify the above images with an **accuracy of atleast 90 %** on the training data and **accuracy of 80 %** on the test data.\n",
    "\n",
    "* Along with a Python implementation of the ANN I have also derived the equations for the different layers. \n",
    "\n",
    "* The above architecture was implemented with just a sigmoid function and a root mean squared error based loss function. \n",
    "\n",
    "* However it can be optimised by leveraging activation functions like `softmax`which is used for multi-class classification problems like this one. \n",
    "\n",
    "* Optimisers and biases can also aid the training of the neural network to work faster and handle more datasets.\n"
   ]
  }
 ],
 "metadata": {
  "kernelspec": {
   "display_name": "Python 3 (ipykernel)",
   "language": "python",
   "name": "python3"
  },
  "language_info": {
   "codemirror_mode": {
    "name": "ipython",
    "version": 3
   },
   "file_extension": ".py",
   "mimetype": "text/x-python",
   "name": "python",
   "nbconvert_exporter": "python",
   "pygments_lexer": "ipython3",
   "version": "3.7.12"
  }
 },
 "nbformat": 4,
 "nbformat_minor": 5
}
